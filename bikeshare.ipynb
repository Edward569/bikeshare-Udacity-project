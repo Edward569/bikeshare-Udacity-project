{
 "cells": [
  {
   "cell_type": "code",
   "execution_count": 1,
   "id": "1b4e41dc",
   "metadata": {},
   "outputs": [],
   "source": [
    "import pandas as pd\n",
    "import numpy as np\n",
    "from datetime import datetime, timedelta\n",
    "import time"
   ]
  },
  {
   "cell_type": "markdown",
   "id": "a3739c42",
   "metadata": {},
   "source": [
    "# First we are going to answer the question due to Chicago city"
   ]
  },
  {
   "cell_type": "markdown",
   "id": "a3f4fef1",
   "metadata": {},
   "source": [
    "**loading of Chicago data** \n"
   ]
  },
  {
   "cell_type": "code",
   "execution_count": 2,
   "id": "ba53dcdb",
   "metadata": {},
   "outputs": [],
   "source": [
    "Chicago_data = pd.read_csv('chicago.csv')\n"
   ]
  },
  {
   "cell_type": "markdown",
   "id": "3c32d9b4",
   "metadata": {},
   "source": [
    "**exploration of componants of data**\n"
   ]
  },
  {
   "cell_type": "code",
   "execution_count": 3,
   "id": "0c032b3d",
   "metadata": {},
   "outputs": [
    {
     "data": {
      "text/plain": [
       "Index(['Unnamed: 0', 'Start Time', 'End Time', 'Trip Duration',\n",
       "       'Start Station', 'End Station', 'User Type', 'Gender', 'Birth Year'],\n",
       "      dtype='object')"
      ]
     },
     "execution_count": 3,
     "metadata": {},
     "output_type": "execute_result"
    }
   ],
   "source": [
    "Chicago_data.columns"
   ]
  },
  {
   "cell_type": "code",
   "execution_count": 4,
   "id": "9b002b0c",
   "metadata": {},
   "outputs": [
    {
     "name": "stdout",
     "output_type": "stream",
     "text": [
      "<class 'pandas.core.frame.DataFrame'>\n",
      "RangeIndex: 300000 entries, 0 to 299999\n",
      "Data columns (total 9 columns):\n",
      " #   Column         Non-Null Count   Dtype  \n",
      "---  ------         --------------   -----  \n",
      " 0   Unnamed: 0     300000 non-null  int64  \n",
      " 1   Start Time     300000 non-null  object \n",
      " 2   End Time       300000 non-null  object \n",
      " 3   Trip Duration  300000 non-null  int64  \n",
      " 4   Start Station  300000 non-null  object \n",
      " 5   End Station    300000 non-null  object \n",
      " 6   User Type      300000 non-null  object \n",
      " 7   Gender         238948 non-null  object \n",
      " 8   Birth Year     238981 non-null  float64\n",
      "dtypes: float64(1), int64(2), object(6)\n",
      "memory usage: 20.6+ MB\n"
     ]
    }
   ],
   "source": [
    "Chicago_data.info()"
   ]
  },
  {
   "cell_type": "code",
   "execution_count": 5,
   "id": "152b4331",
   "metadata": {},
   "outputs": [
    {
     "data": {
      "text/html": [
       "<div>\n",
       "<style scoped>\n",
       "    .dataframe tbody tr th:only-of-type {\n",
       "        vertical-align: middle;\n",
       "    }\n",
       "\n",
       "    .dataframe tbody tr th {\n",
       "        vertical-align: top;\n",
       "    }\n",
       "\n",
       "    .dataframe thead th {\n",
       "        text-align: right;\n",
       "    }\n",
       "</style>\n",
       "<table border=\"1\" class=\"dataframe\">\n",
       "  <thead>\n",
       "    <tr style=\"text-align: right;\">\n",
       "      <th></th>\n",
       "      <th>Unnamed: 0</th>\n",
       "      <th>Start Time</th>\n",
       "      <th>End Time</th>\n",
       "      <th>Trip Duration</th>\n",
       "      <th>Start Station</th>\n",
       "      <th>End Station</th>\n",
       "      <th>User Type</th>\n",
       "      <th>Gender</th>\n",
       "      <th>Birth Year</th>\n",
       "    </tr>\n",
       "  </thead>\n",
       "  <tbody>\n",
       "    <tr>\n",
       "      <th>0</th>\n",
       "      <td>1423854</td>\n",
       "      <td>2017-06-23 15:09:32</td>\n",
       "      <td>2017-06-23 15:14:53</td>\n",
       "      <td>321</td>\n",
       "      <td>Wood St &amp; Hubbard St</td>\n",
       "      <td>Damen Ave &amp; Chicago Ave</td>\n",
       "      <td>Subscriber</td>\n",
       "      <td>Male</td>\n",
       "      <td>1992.0</td>\n",
       "    </tr>\n",
       "  </tbody>\n",
       "</table>\n",
       "</div>"
      ],
      "text/plain": [
       "   Unnamed: 0           Start Time             End Time  Trip Duration  \\\n",
       "0     1423854  2017-06-23 15:09:32  2017-06-23 15:14:53            321   \n",
       "\n",
       "          Start Station              End Station   User Type Gender  \\\n",
       "0  Wood St & Hubbard St  Damen Ave & Chicago Ave  Subscriber   Male   \n",
       "\n",
       "   Birth Year  \n",
       "0      1992.0  "
      ]
     },
     "execution_count": 5,
     "metadata": {},
     "output_type": "execute_result"
    }
   ],
   "source": [
    "Chicago_data.head(1)"
   ]
  },
  {
   "cell_type": "markdown",
   "id": "78638bb8",
   "metadata": {},
   "source": [
    "**converting [Start Time,End Time] from object to datetime**\n"
   ]
  },
  {
   "cell_type": "code",
   "execution_count": 6,
   "id": "e6b9f176",
   "metadata": {},
   "outputs": [],
   "source": [
    "Chicago_data['Start Time'] = pd.to_datetime(Chicago_data['Start Time'], format='%Y-%m-%d %H:%M:%S')\n"
   ]
  },
  {
   "cell_type": "code",
   "execution_count": 9,
   "id": "254cb63a",
   "metadata": {},
   "outputs": [],
   "source": [
    "Chicago_data['End Time'] = pd.to_datetime(Chicago_data['End Time'], format='%Y-%m-%d %H:%M:%S')\n"
   ]
  },
  {
   "cell_type": "markdown",
   "id": "8de5ee02",
   "metadata": {},
   "source": [
    "**Checking data info**\n"
   ]
  },
  {
   "cell_type": "code",
   "execution_count": 12,
   "id": "46dbdeb8",
   "metadata": {},
   "outputs": [
    {
     "name": "stdout",
     "output_type": "stream",
     "text": [
      "<class 'pandas.core.frame.DataFrame'>\n",
      "RangeIndex: 300000 entries, 0 to 299999\n",
      "Data columns (total 9 columns):\n",
      " #   Column         Non-Null Count   Dtype         \n",
      "---  ------         --------------   -----         \n",
      " 0   Unnamed: 0     300000 non-null  int64         \n",
      " 1   Start Time     300000 non-null  datetime64[ns]\n",
      " 2   End Time       300000 non-null  datetime64[ns]\n",
      " 3   Trip Duration  300000 non-null  int64         \n",
      " 4   Start Station  300000 non-null  object        \n",
      " 5   End Station    300000 non-null  object        \n",
      " 6   User Type      300000 non-null  object        \n",
      " 7   Gender         238948 non-null  object        \n",
      " 8   Birth Year     238981 non-null  float64       \n",
      "dtypes: datetime64[ns](2), float64(1), int64(2), object(4)\n",
      "memory usage: 20.6+ MB\n"
     ]
    }
   ],
   "source": [
    "Chicago_data.info()"
   ]
  },
  {
   "cell_type": "markdown",
   "id": "9d0e5990",
   "metadata": {},
   "source": [
    "**spliting datetime**\n"
   ]
  },
  {
   "cell_type": "code",
   "execution_count": 14,
   "id": "a29de6c4",
   "metadata": {},
   "outputs": [],
   "source": [
    "Chicago_data[\"Start time o'clock\"] = Chicago_data['Start Time'].dt.time\n"
   ]
  },
  {
   "cell_type": "code",
   "execution_count": 19,
   "id": "4055349e",
   "metadata": {},
   "outputs": [
    {
     "data": {
      "text/html": [
       "<div>\n",
       "<style scoped>\n",
       "    .dataframe tbody tr th:only-of-type {\n",
       "        vertical-align: middle;\n",
       "    }\n",
       "\n",
       "    .dataframe tbody tr th {\n",
       "        vertical-align: top;\n",
       "    }\n",
       "\n",
       "    .dataframe thead th {\n",
       "        text-align: right;\n",
       "    }\n",
       "</style>\n",
       "<table border=\"1\" class=\"dataframe\">\n",
       "  <thead>\n",
       "    <tr style=\"text-align: right;\">\n",
       "      <th></th>\n",
       "      <th>Unnamed: 0</th>\n",
       "      <th>Start Time</th>\n",
       "      <th>End Time</th>\n",
       "      <th>Trip Duration</th>\n",
       "      <th>Start Station</th>\n",
       "      <th>End Station</th>\n",
       "      <th>User Type</th>\n",
       "      <th>Gender</th>\n",
       "      <th>Birth Year</th>\n",
       "      <th>Start time o'clock</th>\n",
       "      <th>End time o'clock</th>\n",
       "    </tr>\n",
       "  </thead>\n",
       "  <tbody>\n",
       "    <tr>\n",
       "      <th>0</th>\n",
       "      <td>1423854</td>\n",
       "      <td>2017-06-23 15:09:32</td>\n",
       "      <td>2017-06-23 15:14:53</td>\n",
       "      <td>321</td>\n",
       "      <td>Wood St &amp; Hubbard St</td>\n",
       "      <td>Damen Ave &amp; Chicago Ave</td>\n",
       "      <td>Subscriber</td>\n",
       "      <td>Male</td>\n",
       "      <td>1992.0</td>\n",
       "      <td>15:09:32</td>\n",
       "      <td>15:14:53</td>\n",
       "    </tr>\n",
       "  </tbody>\n",
       "</table>\n",
       "</div>"
      ],
      "text/plain": [
       "   Unnamed: 0          Start Time            End Time  Trip Duration  \\\n",
       "0     1423854 2017-06-23 15:09:32 2017-06-23 15:14:53            321   \n",
       "\n",
       "          Start Station              End Station   User Type Gender  \\\n",
       "0  Wood St & Hubbard St  Damen Ave & Chicago Ave  Subscriber   Male   \n",
       "\n",
       "   Birth Year Start time o'clock End time o'clock  \n",
       "0      1992.0           15:09:32         15:14:53  "
      ]
     },
     "execution_count": 19,
     "metadata": {},
     "output_type": "execute_result"
    }
   ],
   "source": [
    "Chicago_data.head(1)"
   ]
  },
  {
   "cell_type": "code",
   "execution_count": 17,
   "id": "0e00f99b",
   "metadata": {},
   "outputs": [],
   "source": [
    "Chicago_data[\"End time o'clock\"] = Chicago_data['End Time'].dt.time"
   ]
  },
  {
   "cell_type": "code",
   "execution_count": 20,
   "id": "b63e7b90",
   "metadata": {},
   "outputs": [
    {
     "data": {
      "text/html": [
       "<div>\n",
       "<style scoped>\n",
       "    .dataframe tbody tr th:only-of-type {\n",
       "        vertical-align: middle;\n",
       "    }\n",
       "\n",
       "    .dataframe tbody tr th {\n",
       "        vertical-align: top;\n",
       "    }\n",
       "\n",
       "    .dataframe thead th {\n",
       "        text-align: right;\n",
       "    }\n",
       "</style>\n",
       "<table border=\"1\" class=\"dataframe\">\n",
       "  <thead>\n",
       "    <tr style=\"text-align: right;\">\n",
       "      <th></th>\n",
       "      <th>Unnamed: 0</th>\n",
       "      <th>Start Time</th>\n",
       "      <th>End Time</th>\n",
       "      <th>Trip Duration</th>\n",
       "      <th>Start Station</th>\n",
       "      <th>End Station</th>\n",
       "      <th>User Type</th>\n",
       "      <th>Gender</th>\n",
       "      <th>Birth Year</th>\n",
       "      <th>Start time o'clock</th>\n",
       "      <th>End time o'clock</th>\n",
       "    </tr>\n",
       "  </thead>\n",
       "  <tbody>\n",
       "    <tr>\n",
       "      <th>0</th>\n",
       "      <td>1423854</td>\n",
       "      <td>2017-06-23 15:09:32</td>\n",
       "      <td>2017-06-23 15:14:53</td>\n",
       "      <td>321</td>\n",
       "      <td>Wood St &amp; Hubbard St</td>\n",
       "      <td>Damen Ave &amp; Chicago Ave</td>\n",
       "      <td>Subscriber</td>\n",
       "      <td>Male</td>\n",
       "      <td>1992.0</td>\n",
       "      <td>15:09:32</td>\n",
       "      <td>15:14:53</td>\n",
       "    </tr>\n",
       "  </tbody>\n",
       "</table>\n",
       "</div>"
      ],
      "text/plain": [
       "   Unnamed: 0          Start Time            End Time  Trip Duration  \\\n",
       "0     1423854 2017-06-23 15:09:32 2017-06-23 15:14:53            321   \n",
       "\n",
       "          Start Station              End Station   User Type Gender  \\\n",
       "0  Wood St & Hubbard St  Damen Ave & Chicago Ave  Subscriber   Male   \n",
       "\n",
       "   Birth Year Start time o'clock End time o'clock  \n",
       "0      1992.0           15:09:32         15:14:53  "
      ]
     },
     "execution_count": 20,
     "metadata": {},
     "output_type": "execute_result"
    }
   ],
   "source": [
    "Chicago_data.head(1)"
   ]
  },
  {
   "cell_type": "markdown",
   "id": "3df884e5",
   "metadata": {},
   "source": [
    "**convering[Start time o'clock,End time o'clock] to datetime**"
   ]
  },
  {
   "cell_type": "code",
   "execution_count": 21,
   "id": "ec92ac82",
   "metadata": {},
   "outputs": [],
   "source": [
    "Chicago_data[\"Start time o'clock\"] = pd.to_datetime(Chicago_data[\"Start time o'clock\"], format='%H:%M:%S')\n"
   ]
  },
  {
   "cell_type": "code",
   "execution_count": 22,
   "id": "ce9876eb",
   "metadata": {},
   "outputs": [],
   "source": [
    "Chicago_data[\"End time o'clock\"] = pd.to_datetime(Chicago_data[\"End time o'clock\"], format='%H:%M:%S')"
   ]
  },
  {
   "cell_type": "code",
   "execution_count": 24,
   "id": "7e0d45db",
   "metadata": {},
   "outputs": [
    {
     "data": {
      "text/html": [
       "<div>\n",
       "<style scoped>\n",
       "    .dataframe tbody tr th:only-of-type {\n",
       "        vertical-align: middle;\n",
       "    }\n",
       "\n",
       "    .dataframe tbody tr th {\n",
       "        vertical-align: top;\n",
       "    }\n",
       "\n",
       "    .dataframe thead th {\n",
       "        text-align: right;\n",
       "    }\n",
       "</style>\n",
       "<table border=\"1\" class=\"dataframe\">\n",
       "  <thead>\n",
       "    <tr style=\"text-align: right;\">\n",
       "      <th></th>\n",
       "      <th>Unnamed: 0</th>\n",
       "      <th>Start Time</th>\n",
       "      <th>End Time</th>\n",
       "      <th>Trip Duration</th>\n",
       "      <th>Start Station</th>\n",
       "      <th>End Station</th>\n",
       "      <th>User Type</th>\n",
       "      <th>Gender</th>\n",
       "      <th>Birth Year</th>\n",
       "      <th>Start time o'clock</th>\n",
       "      <th>End time o'clock</th>\n",
       "    </tr>\n",
       "  </thead>\n",
       "  <tbody>\n",
       "    <tr>\n",
       "      <th>0</th>\n",
       "      <td>1423854</td>\n",
       "      <td>2017-06-23 15:09:32</td>\n",
       "      <td>2017-06-23 15:14:53</td>\n",
       "      <td>321</td>\n",
       "      <td>Wood St &amp; Hubbard St</td>\n",
       "      <td>Damen Ave &amp; Chicago Ave</td>\n",
       "      <td>Subscriber</td>\n",
       "      <td>Male</td>\n",
       "      <td>1992.0</td>\n",
       "      <td>1900-01-01 15:09:32</td>\n",
       "      <td>1900-01-01 15:14:53</td>\n",
       "    </tr>\n",
       "  </tbody>\n",
       "</table>\n",
       "</div>"
      ],
      "text/plain": [
       "   Unnamed: 0          Start Time            End Time  Trip Duration  \\\n",
       "0     1423854 2017-06-23 15:09:32 2017-06-23 15:14:53            321   \n",
       "\n",
       "          Start Station              End Station   User Type Gender  \\\n",
       "0  Wood St & Hubbard St  Damen Ave & Chicago Ave  Subscriber   Male   \n",
       "\n",
       "   Birth Year  Start time o'clock    End time o'clock  \n",
       "0      1992.0 1900-01-01 15:09:32 1900-01-01 15:14:53  "
      ]
     },
     "execution_count": 24,
     "metadata": {},
     "output_type": "execute_result"
    }
   ],
   "source": [
    "Chicago_data.head(1)"
   ]
  },
  {
   "cell_type": "markdown",
   "id": "9f804059",
   "metadata": {},
   "source": [
    "**splitting datetime to 'Hour' column**"
   ]
  },
  {
   "cell_type": "code",
   "execution_count": 25,
   "id": "e4071dd4",
   "metadata": {},
   "outputs": [],
   "source": [
    "Chicago_data['Starting H'] = Chicago_data[\"Start time o'clock\"].dt.strftime('%H')\n"
   ]
  },
  {
   "cell_type": "code",
   "execution_count": 26,
   "id": "52caff70",
   "metadata": {},
   "outputs": [],
   "source": [
    "Chicago_data['Ending H'] = Chicago_data[\"End time o'clock\"].dt.strftime('%H')"
   ]
  },
  {
   "cell_type": "code",
   "execution_count": 31,
   "id": "b09f1cb4",
   "metadata": {},
   "outputs": [
    {
     "data": {
      "text/html": [
       "<div>\n",
       "<style scoped>\n",
       "    .dataframe tbody tr th:only-of-type {\n",
       "        vertical-align: middle;\n",
       "    }\n",
       "\n",
       "    .dataframe tbody tr th {\n",
       "        vertical-align: top;\n",
       "    }\n",
       "\n",
       "    .dataframe thead th {\n",
       "        text-align: right;\n",
       "    }\n",
       "</style>\n",
       "<table border=\"1\" class=\"dataframe\">\n",
       "  <thead>\n",
       "    <tr style=\"text-align: right;\">\n",
       "      <th></th>\n",
       "      <th>Unnamed: 0</th>\n",
       "      <th>Start Time</th>\n",
       "      <th>End Time</th>\n",
       "      <th>Trip Duration</th>\n",
       "      <th>Start Station</th>\n",
       "      <th>End Station</th>\n",
       "      <th>User Type</th>\n",
       "      <th>Gender</th>\n",
       "      <th>Birth Year</th>\n",
       "      <th>Start time o'clock</th>\n",
       "      <th>End time o'clock</th>\n",
       "      <th>Starting H</th>\n",
       "      <th>Ending H</th>\n",
       "    </tr>\n",
       "  </thead>\n",
       "  <tbody>\n",
       "    <tr>\n",
       "      <th>0</th>\n",
       "      <td>1423854</td>\n",
       "      <td>2017-06-23 15:09:32</td>\n",
       "      <td>2017-06-23 15:14:53</td>\n",
       "      <td>321</td>\n",
       "      <td>Wood St &amp; Hubbard St</td>\n",
       "      <td>Damen Ave &amp; Chicago Ave</td>\n",
       "      <td>Subscriber</td>\n",
       "      <td>Male</td>\n",
       "      <td>1992.0</td>\n",
       "      <td>1900-01-01 15:09:32</td>\n",
       "      <td>1900-01-01 15:14:53</td>\n",
       "      <td>15</td>\n",
       "      <td>15</td>\n",
       "    </tr>\n",
       "  </tbody>\n",
       "</table>\n",
       "</div>"
      ],
      "text/plain": [
       "   Unnamed: 0          Start Time            End Time  Trip Duration  \\\n",
       "0     1423854 2017-06-23 15:09:32 2017-06-23 15:14:53            321   \n",
       "\n",
       "          Start Station              End Station   User Type Gender  \\\n",
       "0  Wood St & Hubbard St  Damen Ave & Chicago Ave  Subscriber   Male   \n",
       "\n",
       "   Birth Year  Start time o'clock    End time o'clock Starting H Ending H  \n",
       "0      1992.0 1900-01-01 15:09:32 1900-01-01 15:14:53         15       15  "
      ]
     },
     "execution_count": 31,
     "metadata": {},
     "output_type": "execute_result"
    }
   ],
   "source": [
    "Chicago_data.head(1)"
   ]
  },
  {
   "cell_type": "markdown",
   "id": "c6ebf57d",
   "metadata": {},
   "source": [
    "**Finding the most common Hour**"
   ]
  },
  {
   "cell_type": "code",
   "execution_count": 32,
   "id": "20362448",
   "metadata": {},
   "outputs": [
    {
     "data": {
      "text/plain": [
       "17    35992\n",
       "Name: Starting H, dtype: int64"
      ]
     },
     "execution_count": 32,
     "metadata": {},
     "output_type": "execute_result"
    }
   ],
   "source": [
    "Chicago_data['Starting H'].value_counts().head(1)\n",
    "#The most common Hour equel 17 "
   ]
  },
  {
   "cell_type": "markdown",
   "id": "df0ca493",
   "metadata": {},
   "source": [
    "**Splitting date to 'Month'**\n",
    "**and finding the most common month**\n"
   ]
  },
  {
   "cell_type": "code",
   "execution_count": 33,
   "id": "cf210a9e",
   "metadata": {},
   "outputs": [
    {
     "data": {
      "text/plain": [
       "6    98081\n",
       "Name: Start Time, dtype: int64"
      ]
     },
     "execution_count": 33,
     "metadata": {},
     "output_type": "execute_result"
    }
   ],
   "source": [
    "Chicago_data['Start Time'].dt.month.value_counts().head(1)\n",
    "#the most common  month in Start time is 6 'June'"
   ]
  },
  {
   "cell_type": "code",
   "execution_count": 34,
   "id": "9871f7dd",
   "metadata": {},
   "outputs": [
    {
     "data": {
      "text/plain": [
       "6    98074\n",
       "Name: End Time, dtype: int64"
      ]
     },
     "execution_count": 34,
     "metadata": {},
     "output_type": "execute_result"
    }
   ],
   "source": [
    "Chicago_data['End Time'].dt.month.value_counts().head(1)\n",
    "#the most common  month in End time is 6 'June'"
   ]
  },
  {
   "cell_type": "markdown",
   "id": "d5500753",
   "metadata": {},
   "source": [
    "**Splitting date to 'Day'**\n",
    "**and finding the most common Day**"
   ]
  },
  {
   "cell_type": "code",
   "execution_count": 35,
   "id": "1360df30",
   "metadata": {},
   "outputs": [
    {
     "data": {
      "text/plain": [
       "18    12700\n",
       "Name: Start Time, dtype: int64"
      ]
     },
     "execution_count": 35,
     "metadata": {},
     "output_type": "execute_result"
    }
   ],
   "source": [
    "Chicago_data['Start Time'].dt.day.value_counts().head(1)\n",
    "#the most common  day in Start time is 18 "
   ]
  },
  {
   "cell_type": "code",
   "execution_count": 36,
   "id": "73cddfd2",
   "metadata": {},
   "outputs": [
    {
     "data": {
      "text/plain": [
       "18    12690\n",
       "Name: End Time, dtype: int64"
      ]
     },
     "execution_count": 36,
     "metadata": {},
     "output_type": "execute_result"
    }
   ],
   "source": [
    "Chicago_data['End Time'].dt.day.value_counts().head(1)\n",
    "#the most common  day in Start End is 18"
   ]
  },
  {
   "cell_type": "markdown",
   "id": "6ddcef5a",
   "metadata": {},
   "source": [
    "**most common start station??**"
   ]
  },
  {
   "cell_type": "code",
   "execution_count": 38,
   "id": "6b503ac7",
   "metadata": {},
   "outputs": [
    {
     "data": {
      "text/plain": [
       "Streeter Dr & Grand Ave    6911\n",
       "Name: Start Station, dtype: int64"
      ]
     },
     "execution_count": 38,
     "metadata": {},
     "output_type": "execute_result"
    }
   ],
   "source": [
    "Chicago_data['Start Station'].value_counts().head(1)\n",
    "#'Streeter Dr & Grand Ave' is the most common start station"
   ]
  },
  {
   "cell_type": "markdown",
   "id": "adb6a748",
   "metadata": {},
   "source": [
    "**most common end station??**"
   ]
  },
  {
   "cell_type": "code",
   "execution_count": 39,
   "id": "b87ce39f",
   "metadata": {},
   "outputs": [
    {
     "data": {
      "text/plain": [
       "Streeter Dr & Grand Ave    7512\n",
       "Name: End Station, dtype: int64"
      ]
     },
     "execution_count": 39,
     "metadata": {},
     "output_type": "execute_result"
    }
   ],
   "source": [
    "Chicago_data['End Station'].value_counts().head(1)\n",
    "#'Streeter Dr & Grand Ave' is the most common End station"
   ]
  },
  {
   "cell_type": "markdown",
   "id": "58f456f3",
   "metadata": {},
   "source": [
    "**most common trip from start to end??**"
   ]
  },
  {
   "cell_type": "code",
   "execution_count": 44,
   "id": "0e1d67ef",
   "metadata": {},
   "outputs": [
    {
     "data": {
      "text/plain": [
       "Streeter Dr & Grand Ave    6911\n",
       "Name: Start Station, dtype: int64"
      ]
     },
     "execution_count": 44,
     "metadata": {},
     "output_type": "execute_result"
    }
   ],
   "source": [
    "Chicago_data['Start Station'].value_counts().head(1)\n"
   ]
  },
  {
   "cell_type": "code",
   "execution_count": 47,
   "id": "2e4f25f7",
   "metadata": {},
   "outputs": [
    {
     "data": {
      "text/plain": [
       "Streeter Dr & Grand Ave    7512\n",
       "Name: End Station, dtype: int64"
      ]
     },
     "execution_count": 47,
     "metadata": {},
     "output_type": "execute_result"
    }
   ],
   "source": [
    "Chicago_data['End Station'].value_counts().head(1)\n",
    "#'Streeter Dr & Grand Ave' is the most common trip from start to end"
   ]
  },
  {
   "cell_type": "markdown",
   "id": "5a3e6d89",
   "metadata": {},
   "source": [
    "**total travel time??**"
   ]
  },
  {
   "cell_type": "code",
   "execution_count": 51,
   "id": "0b0b2e05",
   "metadata": {},
   "outputs": [
    {
     "data": {
      "text/plain": [
       "280871787"
      ]
     },
     "execution_count": 51,
     "metadata": {},
     "output_type": "execute_result"
    }
   ],
   "source": [
    "Chicago_data['Trip Duration'].sum()\n",
    "#total travel time = 280871787 sec = 4681196.45 min = 78019.9 h"
   ]
  },
  {
   "cell_type": "markdown",
   "id": "29d6a5e2",
   "metadata": {},
   "source": [
    "**average travel time??**"
   ]
  },
  {
   "cell_type": "code",
   "execution_count": 53,
   "id": "cdb7550a",
   "metadata": {},
   "outputs": [
    {
     "data": {
      "text/plain": [
       "936.23929"
      ]
     },
     "execution_count": 53,
     "metadata": {},
     "output_type": "execute_result"
    }
   ],
   "source": [
    "Chicago_data['Trip Duration'].mean()\n",
    "#average travel time = 936.23929 sec = 15.6 min = 0.2 h"
   ]
  },
  {
   "cell_type": "markdown",
   "id": "8c041d1b",
   "metadata": {},
   "source": [
    "**counting of each user type**"
   ]
  },
  {
   "cell_type": "code",
   "execution_count": 56,
   "id": "c59a7dfd",
   "metadata": {},
   "outputs": [
    {
     "data": {
      "text/plain": [
       "Subscriber    238889\n",
       "Customer       61110\n",
       "Dependent          1\n",
       "Name: User Type, dtype: int64"
      ]
     },
     "execution_count": 56,
     "metadata": {},
     "output_type": "execute_result"
    }
   ],
   "source": [
    "Chicago_data['User Type'].value_counts()\n",
    "#Subscriber = 238889\n",
    "#Customer =  61110\n",
    "#Dependent  = 1"
   ]
  },
  {
   "cell_type": "markdown",
   "id": "3daa4ee1",
   "metadata": {},
   "source": [
    "**counting of each gender**"
   ]
  },
  {
   "cell_type": "code",
   "execution_count": 59,
   "id": "0ef3d7b0",
   "metadata": {},
   "outputs": [
    {
     "data": {
      "text/plain": [
       "Male      181190\n",
       "Female     57758\n",
       "Name: Gender, dtype: int64"
      ]
     },
     "execution_count": 59,
     "metadata": {},
     "output_type": "execute_result"
    }
   ],
   "source": [
    "Chicago_data['Gender'].value_counts()\n",
    "#Male = 181190\n",
    "#Female = 57758\n"
   ]
  },
  {
   "cell_type": "markdown",
   "id": "4ad539d7",
   "metadata": {},
   "source": [
    "**'earliest' most common year of birth**\n"
   ]
  },
  {
   "cell_type": "code",
   "execution_count": 75,
   "id": "020f347f",
   "metadata": {},
   "outputs": [
    {
     "data": {
      "text/html": [
       "<div>\n",
       "<style scoped>\n",
       "    .dataframe tbody tr th:only-of-type {\n",
       "        vertical-align: middle;\n",
       "    }\n",
       "\n",
       "    .dataframe tbody tr th {\n",
       "        vertical-align: top;\n",
       "    }\n",
       "\n",
       "    .dataframe thead th {\n",
       "        text-align: right;\n",
       "    }\n",
       "</style>\n",
       "<table border=\"1\" class=\"dataframe\">\n",
       "  <thead>\n",
       "    <tr style=\"text-align: right;\">\n",
       "      <th></th>\n",
       "      <th>Unnamed: 0</th>\n",
       "      <th>Start Time</th>\n",
       "      <th>End Time</th>\n",
       "      <th>Trip Duration</th>\n",
       "      <th>Start Station</th>\n",
       "      <th>End Station</th>\n",
       "      <th>User Type</th>\n",
       "      <th>Gender</th>\n",
       "      <th>Birth Year</th>\n",
       "      <th>Start time o'clock</th>\n",
       "      <th>End time o'clock</th>\n",
       "      <th>Starting H</th>\n",
       "      <th>Ending H</th>\n",
       "    </tr>\n",
       "  </thead>\n",
       "  <tbody>\n",
       "    <tr>\n",
       "      <th>117906</th>\n",
       "      <td>658362</td>\n",
       "      <td>2017-04-25 10:56:40</td>\n",
       "      <td>2017-04-25 11:05:35</td>\n",
       "      <td>535</td>\n",
       "      <td>Prairie Ave &amp; Garfield Blvd</td>\n",
       "      <td>University Ave &amp; 57th St</td>\n",
       "      <td>Subscriber</td>\n",
       "      <td>Male</td>\n",
       "      <td>1899.0</td>\n",
       "      <td>1900-01-01 10:56:40</td>\n",
       "      <td>1900-01-01 11:05:35</td>\n",
       "      <td>10</td>\n",
       "      <td>11</td>\n",
       "    </tr>\n",
       "  </tbody>\n",
       "</table>\n",
       "</div>"
      ],
      "text/plain": [
       "        Unnamed: 0          Start Time            End Time  Trip Duration  \\\n",
       "117906      658362 2017-04-25 10:56:40 2017-04-25 11:05:35            535   \n",
       "\n",
       "                      Start Station               End Station   User Type  \\\n",
       "117906  Prairie Ave & Garfield Blvd  University Ave & 57th St  Subscriber   \n",
       "\n",
       "       Gender  Birth Year  Start time o'clock    End time o'clock Starting H  \\\n",
       "117906   Male      1899.0 1900-01-01 10:56:40 1900-01-01 11:05:35         10   \n",
       "\n",
       "       Ending H  \n",
       "117906       11  "
      ]
     },
     "execution_count": 75,
     "metadata": {},
     "output_type": "execute_result"
    }
   ],
   "source": [
    "Chicago_data.sort_values(by='Birth Year').head(1)"
   ]
  },
  {
   "cell_type": "code",
   "execution_count": 77,
   "id": "25bf07f2",
   "metadata": {},
   "outputs": [
    {
     "data": {
      "text/plain": [
       "1989.0    14666\n",
       "Name: Birth Year, dtype: int64"
      ]
     },
     "execution_count": 77,
     "metadata": {},
     "output_type": "execute_result"
    }
   ],
   "source": [
    "Chicago_data['Birth Year'].value_counts().head(1)\n",
    "#the most common year of birth is 1989"
   ]
  },
  {
   "cell_type": "code",
   "execution_count": 78,
   "id": "6af6a5ff",
   "metadata": {},
   "outputs": [
    {
     "data": {
      "text/plain": [
       "1899.0"
      ]
     },
     "execution_count": 78,
     "metadata": {},
     "output_type": "execute_result"
    }
   ],
   "source": [
    "Chicago_data['Birth Year'].min()\n",
    "#earliest year of birth is = 1899"
   ]
  },
  {
   "cell_type": "code",
   "execution_count": 80,
   "id": "905ea955",
   "metadata": {},
   "outputs": [
    {
     "data": {
      "text/plain": [
       "2016.0"
      ]
     },
     "execution_count": 80,
     "metadata": {},
     "output_type": "execute_result"
    }
   ],
   "source": [
    "Chicago_data['Birth Year'].max()\n",
    "#most recent year of birth is = 2016"
   ]
  },
  {
   "cell_type": "markdown",
   "id": "3bed01d6",
   "metadata": {},
   "source": [
    "# .........................................................................."
   ]
  },
  {
   "cell_type": "markdown",
   "id": "79330089",
   "metadata": {},
   "source": [
    "# Second we are going to answer the question due to new_york_city"
   ]
  },
  {
   "cell_type": "code",
   "execution_count": 2,
   "id": "5f2533ed",
   "metadata": {},
   "outputs": [],
   "source": [
    "import pandas as pd\n",
    "import numpy as np\n",
    "from datetime import datetime, timedelta\n",
    "import time"
   ]
  },
  {
   "cell_type": "markdown",
   "id": "adc45206",
   "metadata": {},
   "source": [
    "**loading of ny_data** \n"
   ]
  },
  {
   "cell_type": "code",
   "execution_count": 3,
   "id": "cddf7375",
   "metadata": {},
   "outputs": [],
   "source": [
    "ny_data = pd.read_csv('new_york_city.csv')\n"
   ]
  },
  {
   "cell_type": "markdown",
   "id": "af8ea870",
   "metadata": {},
   "source": [
    "**exploration of componants of data**\n"
   ]
  },
  {
   "cell_type": "code",
   "execution_count": 4,
   "id": "87d67aa8",
   "metadata": {},
   "outputs": [
    {
     "data": {
      "text/plain": [
       "Index(['Unnamed: 0', 'Start Time', 'End Time', 'Trip Duration',\n",
       "       'Start Station', 'End Station', 'User Type', 'Gender', 'Birth Year'],\n",
       "      dtype='object')"
      ]
     },
     "execution_count": 4,
     "metadata": {},
     "output_type": "execute_result"
    }
   ],
   "source": [
    "ny_data.columns"
   ]
  },
  {
   "cell_type": "code",
   "execution_count": 5,
   "id": "6770ce0b",
   "metadata": {},
   "outputs": [
    {
     "name": "stdout",
     "output_type": "stream",
     "text": [
      "<class 'pandas.core.frame.DataFrame'>\n",
      "RangeIndex: 300000 entries, 0 to 299999\n",
      "Data columns (total 9 columns):\n",
      " #   Column         Non-Null Count   Dtype  \n",
      "---  ------         --------------   -----  \n",
      " 0   Unnamed: 0     300000 non-null  int64  \n",
      " 1   Start Time     300000 non-null  object \n",
      " 2   End Time       300000 non-null  object \n",
      " 3   Trip Duration  300000 non-null  int64  \n",
      " 4   Start Station  300000 non-null  object \n",
      " 5   End Station    300000 non-null  object \n",
      " 6   User Type      299308 non-null  object \n",
      " 7   Gender         270791 non-null  object \n",
      " 8   Birth Year     271780 non-null  float64\n",
      "dtypes: float64(1), int64(2), object(6)\n",
      "memory usage: 20.6+ MB\n"
     ]
    }
   ],
   "source": [
    "ny_data.info()"
   ]
  },
  {
   "cell_type": "code",
   "execution_count": 6,
   "id": "fb0d5040",
   "metadata": {},
   "outputs": [
    {
     "data": {
      "text/html": [
       "<div>\n",
       "<style scoped>\n",
       "    .dataframe tbody tr th:only-of-type {\n",
       "        vertical-align: middle;\n",
       "    }\n",
       "\n",
       "    .dataframe tbody tr th {\n",
       "        vertical-align: top;\n",
       "    }\n",
       "\n",
       "    .dataframe thead th {\n",
       "        text-align: right;\n",
       "    }\n",
       "</style>\n",
       "<table border=\"1\" class=\"dataframe\">\n",
       "  <thead>\n",
       "    <tr style=\"text-align: right;\">\n",
       "      <th></th>\n",
       "      <th>Unnamed: 0</th>\n",
       "      <th>Start Time</th>\n",
       "      <th>End Time</th>\n",
       "      <th>Trip Duration</th>\n",
       "      <th>Start Station</th>\n",
       "      <th>End Station</th>\n",
       "      <th>User Type</th>\n",
       "      <th>Gender</th>\n",
       "      <th>Birth Year</th>\n",
       "    </tr>\n",
       "  </thead>\n",
       "  <tbody>\n",
       "    <tr>\n",
       "      <th>0</th>\n",
       "      <td>5688089</td>\n",
       "      <td>2017-06-11 14:55:05</td>\n",
       "      <td>2017-06-11 15:08:21</td>\n",
       "      <td>795</td>\n",
       "      <td>Suffolk St &amp; Stanton St</td>\n",
       "      <td>W Broadway &amp; Spring St</td>\n",
       "      <td>Subscriber</td>\n",
       "      <td>Male</td>\n",
       "      <td>1998.0</td>\n",
       "    </tr>\n",
       "  </tbody>\n",
       "</table>\n",
       "</div>"
      ],
      "text/plain": [
       "   Unnamed: 0           Start Time             End Time  Trip Duration  \\\n",
       "0     5688089  2017-06-11 14:55:05  2017-06-11 15:08:21            795   \n",
       "\n",
       "             Start Station             End Station   User Type Gender  \\\n",
       "0  Suffolk St & Stanton St  W Broadway & Spring St  Subscriber   Male   \n",
       "\n",
       "   Birth Year  \n",
       "0      1998.0  "
      ]
     },
     "execution_count": 6,
     "metadata": {},
     "output_type": "execute_result"
    }
   ],
   "source": [
    "ny_data.head(1)"
   ]
  },
  {
   "cell_type": "markdown",
   "id": "b656c3e1",
   "metadata": {},
   "source": [
    "**converting [Start Time,End Time] from object to datetime**\n"
   ]
  },
  {
   "cell_type": "code",
   "execution_count": 7,
   "id": "34f22f00",
   "metadata": {},
   "outputs": [],
   "source": [
    "ny_data['Start Time'] = pd.to_datetime(ny_data['Start Time'], format='%Y-%m-%d %H:%M:%S')\n"
   ]
  },
  {
   "cell_type": "code",
   "execution_count": 8,
   "id": "386f9635",
   "metadata": {},
   "outputs": [],
   "source": [
    "ny_data['End Time'] = pd.to_datetime(ny_data['End Time'], format='%Y-%m-%d %H:%M:%S')\n"
   ]
  },
  {
   "cell_type": "markdown",
   "id": "8be1dac2",
   "metadata": {},
   "source": [
    "**Checking data info**\n"
   ]
  },
  {
   "cell_type": "code",
   "execution_count": 9,
   "id": "306d7d24",
   "metadata": {},
   "outputs": [
    {
     "name": "stdout",
     "output_type": "stream",
     "text": [
      "<class 'pandas.core.frame.DataFrame'>\n",
      "RangeIndex: 300000 entries, 0 to 299999\n",
      "Data columns (total 9 columns):\n",
      " #   Column         Non-Null Count   Dtype         \n",
      "---  ------         --------------   -----         \n",
      " 0   Unnamed: 0     300000 non-null  int64         \n",
      " 1   Start Time     300000 non-null  datetime64[ns]\n",
      " 2   End Time       300000 non-null  datetime64[ns]\n",
      " 3   Trip Duration  300000 non-null  int64         \n",
      " 4   Start Station  300000 non-null  object        \n",
      " 5   End Station    300000 non-null  object        \n",
      " 6   User Type      299308 non-null  object        \n",
      " 7   Gender         270791 non-null  object        \n",
      " 8   Birth Year     271780 non-null  float64       \n",
      "dtypes: datetime64[ns](2), float64(1), int64(2), object(4)\n",
      "memory usage: 20.6+ MB\n"
     ]
    }
   ],
   "source": [
    "ny_data.info()"
   ]
  },
  {
   "cell_type": "markdown",
   "id": "aa908753",
   "metadata": {},
   "source": [
    "**spliting datetime**\n"
   ]
  },
  {
   "cell_type": "code",
   "execution_count": 10,
   "id": "4ac7e8e6",
   "metadata": {},
   "outputs": [],
   "source": [
    "ny_data[\"Start time o'clock\"] = ny_data['Start Time'].dt.time\n"
   ]
  },
  {
   "cell_type": "code",
   "execution_count": 11,
   "id": "55e96cd7",
   "metadata": {},
   "outputs": [
    {
     "data": {
      "text/html": [
       "<div>\n",
       "<style scoped>\n",
       "    .dataframe tbody tr th:only-of-type {\n",
       "        vertical-align: middle;\n",
       "    }\n",
       "\n",
       "    .dataframe tbody tr th {\n",
       "        vertical-align: top;\n",
       "    }\n",
       "\n",
       "    .dataframe thead th {\n",
       "        text-align: right;\n",
       "    }\n",
       "</style>\n",
       "<table border=\"1\" class=\"dataframe\">\n",
       "  <thead>\n",
       "    <tr style=\"text-align: right;\">\n",
       "      <th></th>\n",
       "      <th>Unnamed: 0</th>\n",
       "      <th>Start Time</th>\n",
       "      <th>End Time</th>\n",
       "      <th>Trip Duration</th>\n",
       "      <th>Start Station</th>\n",
       "      <th>End Station</th>\n",
       "      <th>User Type</th>\n",
       "      <th>Gender</th>\n",
       "      <th>Birth Year</th>\n",
       "      <th>Start time o'clock</th>\n",
       "    </tr>\n",
       "  </thead>\n",
       "  <tbody>\n",
       "    <tr>\n",
       "      <th>0</th>\n",
       "      <td>5688089</td>\n",
       "      <td>2017-06-11 14:55:05</td>\n",
       "      <td>2017-06-11 15:08:21</td>\n",
       "      <td>795</td>\n",
       "      <td>Suffolk St &amp; Stanton St</td>\n",
       "      <td>W Broadway &amp; Spring St</td>\n",
       "      <td>Subscriber</td>\n",
       "      <td>Male</td>\n",
       "      <td>1998.0</td>\n",
       "      <td>14:55:05</td>\n",
       "    </tr>\n",
       "  </tbody>\n",
       "</table>\n",
       "</div>"
      ],
      "text/plain": [
       "   Unnamed: 0          Start Time            End Time  Trip Duration  \\\n",
       "0     5688089 2017-06-11 14:55:05 2017-06-11 15:08:21            795   \n",
       "\n",
       "             Start Station             End Station   User Type Gender  \\\n",
       "0  Suffolk St & Stanton St  W Broadway & Spring St  Subscriber   Male   \n",
       "\n",
       "   Birth Year Start time o'clock  \n",
       "0      1998.0           14:55:05  "
      ]
     },
     "execution_count": 11,
     "metadata": {},
     "output_type": "execute_result"
    }
   ],
   "source": [
    "ny_data.head(1)"
   ]
  },
  {
   "cell_type": "markdown",
   "id": "bdcee64c",
   "metadata": {},
   "source": [
    "**convering[Start time o'clock,End time o'clock] to datetime**"
   ]
  },
  {
   "cell_type": "code",
   "execution_count": 12,
   "id": "43589431",
   "metadata": {},
   "outputs": [],
   "source": [
    "ny_data[\"Start time o'clock\"] = pd.to_datetime(ny_data[\"Start time o'clock\"], format='%H:%M:%S')\n"
   ]
  },
  {
   "cell_type": "code",
   "execution_count": 13,
   "id": "b1b1668a",
   "metadata": {},
   "outputs": [
    {
     "data": {
      "text/html": [
       "<div>\n",
       "<style scoped>\n",
       "    .dataframe tbody tr th:only-of-type {\n",
       "        vertical-align: middle;\n",
       "    }\n",
       "\n",
       "    .dataframe tbody tr th {\n",
       "        vertical-align: top;\n",
       "    }\n",
       "\n",
       "    .dataframe thead th {\n",
       "        text-align: right;\n",
       "    }\n",
       "</style>\n",
       "<table border=\"1\" class=\"dataframe\">\n",
       "  <thead>\n",
       "    <tr style=\"text-align: right;\">\n",
       "      <th></th>\n",
       "      <th>Unnamed: 0</th>\n",
       "      <th>Start Time</th>\n",
       "      <th>End Time</th>\n",
       "      <th>Trip Duration</th>\n",
       "      <th>Start Station</th>\n",
       "      <th>End Station</th>\n",
       "      <th>User Type</th>\n",
       "      <th>Gender</th>\n",
       "      <th>Birth Year</th>\n",
       "      <th>Start time o'clock</th>\n",
       "    </tr>\n",
       "  </thead>\n",
       "  <tbody>\n",
       "    <tr>\n",
       "      <th>0</th>\n",
       "      <td>5688089</td>\n",
       "      <td>2017-06-11 14:55:05</td>\n",
       "      <td>2017-06-11 15:08:21</td>\n",
       "      <td>795</td>\n",
       "      <td>Suffolk St &amp; Stanton St</td>\n",
       "      <td>W Broadway &amp; Spring St</td>\n",
       "      <td>Subscriber</td>\n",
       "      <td>Male</td>\n",
       "      <td>1998.0</td>\n",
       "      <td>1900-01-01 14:55:05</td>\n",
       "    </tr>\n",
       "  </tbody>\n",
       "</table>\n",
       "</div>"
      ],
      "text/plain": [
       "   Unnamed: 0          Start Time            End Time  Trip Duration  \\\n",
       "0     5688089 2017-06-11 14:55:05 2017-06-11 15:08:21            795   \n",
       "\n",
       "             Start Station             End Station   User Type Gender  \\\n",
       "0  Suffolk St & Stanton St  W Broadway & Spring St  Subscriber   Male   \n",
       "\n",
       "   Birth Year  Start time o'clock  \n",
       "0      1998.0 1900-01-01 14:55:05  "
      ]
     },
     "execution_count": 13,
     "metadata": {},
     "output_type": "execute_result"
    }
   ],
   "source": [
    "ny_data.head(1)"
   ]
  },
  {
   "cell_type": "markdown",
   "id": "1df1ea58",
   "metadata": {},
   "source": [
    "**splitting datetime to 'Hour' column**"
   ]
  },
  {
   "cell_type": "code",
   "execution_count": 14,
   "id": "bc44ce44",
   "metadata": {},
   "outputs": [],
   "source": [
    "ny_data['Starting H'] = ny_data[\"Start time o'clock\"].dt.strftime('%H')\n"
   ]
  },
  {
   "cell_type": "code",
   "execution_count": 15,
   "id": "9a61e7e1",
   "metadata": {},
   "outputs": [
    {
     "data": {
      "text/html": [
       "<div>\n",
       "<style scoped>\n",
       "    .dataframe tbody tr th:only-of-type {\n",
       "        vertical-align: middle;\n",
       "    }\n",
       "\n",
       "    .dataframe tbody tr th {\n",
       "        vertical-align: top;\n",
       "    }\n",
       "\n",
       "    .dataframe thead th {\n",
       "        text-align: right;\n",
       "    }\n",
       "</style>\n",
       "<table border=\"1\" class=\"dataframe\">\n",
       "  <thead>\n",
       "    <tr style=\"text-align: right;\">\n",
       "      <th></th>\n",
       "      <th>Unnamed: 0</th>\n",
       "      <th>Start Time</th>\n",
       "      <th>End Time</th>\n",
       "      <th>Trip Duration</th>\n",
       "      <th>Start Station</th>\n",
       "      <th>End Station</th>\n",
       "      <th>User Type</th>\n",
       "      <th>Gender</th>\n",
       "      <th>Birth Year</th>\n",
       "      <th>Start time o'clock</th>\n",
       "      <th>Starting H</th>\n",
       "    </tr>\n",
       "  </thead>\n",
       "  <tbody>\n",
       "    <tr>\n",
       "      <th>0</th>\n",
       "      <td>5688089</td>\n",
       "      <td>2017-06-11 14:55:05</td>\n",
       "      <td>2017-06-11 15:08:21</td>\n",
       "      <td>795</td>\n",
       "      <td>Suffolk St &amp; Stanton St</td>\n",
       "      <td>W Broadway &amp; Spring St</td>\n",
       "      <td>Subscriber</td>\n",
       "      <td>Male</td>\n",
       "      <td>1998.0</td>\n",
       "      <td>1900-01-01 14:55:05</td>\n",
       "      <td>14</td>\n",
       "    </tr>\n",
       "  </tbody>\n",
       "</table>\n",
       "</div>"
      ],
      "text/plain": [
       "   Unnamed: 0          Start Time            End Time  Trip Duration  \\\n",
       "0     5688089 2017-06-11 14:55:05 2017-06-11 15:08:21            795   \n",
       "\n",
       "             Start Station             End Station   User Type Gender  \\\n",
       "0  Suffolk St & Stanton St  W Broadway & Spring St  Subscriber   Male   \n",
       "\n",
       "   Birth Year  Start time o'clock Starting H  \n",
       "0      1998.0 1900-01-01 14:55:05         14  "
      ]
     },
     "execution_count": 15,
     "metadata": {},
     "output_type": "execute_result"
    }
   ],
   "source": [
    "ny_data.head(1)"
   ]
  },
  {
   "cell_type": "markdown",
   "id": "676b3422",
   "metadata": {},
   "source": [
    "**Finding the most common Hour**"
   ]
  },
  {
   "cell_type": "code",
   "execution_count": 16,
   "id": "66ad93b9",
   "metadata": {},
   "outputs": [
    {
     "data": {
      "text/plain": [
       "17    30041\n",
       "Name: Starting H, dtype: int64"
      ]
     },
     "execution_count": 16,
     "metadata": {},
     "output_type": "execute_result"
    }
   ],
   "source": [
    "ny_data['Starting H'].value_counts().head(1)\n",
    "#The most common Hour equel 17 "
   ]
  },
  {
   "cell_type": "markdown",
   "id": "1cb26c10",
   "metadata": {},
   "source": [
    "**Splitting date to 'Month'**\n",
    "**and finding the most common month**"
   ]
  },
  {
   "cell_type": "code",
   "execution_count": 17,
   "id": "fd74b9b1",
   "metadata": {},
   "outputs": [
    {
     "data": {
      "text/plain": [
       "6    76022\n",
       "Name: Start Time, dtype: int64"
      ]
     },
     "execution_count": 17,
     "metadata": {},
     "output_type": "execute_result"
    }
   ],
   "source": [
    "ny_data['Start Time'].dt.month.value_counts().head(1)\n",
    "#the most common  month in Start time is 6 'June'"
   ]
  },
  {
   "cell_type": "markdown",
   "id": "3a61732d",
   "metadata": {},
   "source": [
    "**Splitting date to 'Day'**\n",
    "**and finding the most common Day**"
   ]
  },
  {
   "cell_type": "code",
   "execution_count": 18,
   "id": "790ff264",
   "metadata": {},
   "outputs": [
    {
     "data": {
      "text/plain": [
       "28    11503\n",
       "Name: Start Time, dtype: int64"
      ]
     },
     "execution_count": 18,
     "metadata": {},
     "output_type": "execute_result"
    }
   ],
   "source": [
    "ny_data['Start Time'].dt.day.value_counts().head(1)\n",
    "#the most common  day in Start time is 28 "
   ]
  },
  {
   "cell_type": "markdown",
   "id": "258dd47a",
   "metadata": {},
   "source": [
    "**most common start station??**"
   ]
  },
  {
   "cell_type": "code",
   "execution_count": 19,
   "id": "3a1693fa",
   "metadata": {},
   "outputs": [
    {
     "data": {
      "text/plain": [
       "Pershing Square North    3069\n",
       "Name: Start Station, dtype: int64"
      ]
     },
     "execution_count": 19,
     "metadata": {},
     "output_type": "execute_result"
    }
   ],
   "source": [
    "ny_data['Start Station'].value_counts().head(1)\n",
    "#'Pershing Square North' is the most common start station"
   ]
  },
  {
   "cell_type": "markdown",
   "id": "75953978",
   "metadata": {},
   "source": [
    "**most common end station??**"
   ]
  },
  {
   "cell_type": "code",
   "execution_count": 20,
   "id": "df44143e",
   "metadata": {},
   "outputs": [
    {
     "data": {
      "text/plain": [
       "Pershing Square North    3077\n",
       "Name: End Station, dtype: int64"
      ]
     },
     "execution_count": 20,
     "metadata": {},
     "output_type": "execute_result"
    }
   ],
   "source": [
    "ny_data['End Station'].value_counts().head(1)\n",
    "#'Pershing Square North' is the most common End station"
   ]
  },
  {
   "cell_type": "markdown",
   "id": "bffe807b",
   "metadata": {},
   "source": [
    "**most common trip from start to end??**"
   ]
  },
  {
   "cell_type": "code",
   "execution_count": 21,
   "id": "d3aa52ff",
   "metadata": {},
   "outputs": [
    {
     "data": {
      "text/plain": [
       "Pershing Square North    3069\n",
       "Name: Start Station, dtype: int64"
      ]
     },
     "execution_count": 21,
     "metadata": {},
     "output_type": "execute_result"
    }
   ],
   "source": [
    "ny_data['Start Station'].value_counts().head(1)\n"
   ]
  },
  {
   "cell_type": "markdown",
   "id": "9c47443a",
   "metadata": {},
   "source": [
    "**total travel time??**"
   ]
  },
  {
   "cell_type": "code",
   "execution_count": 22,
   "id": "6e0343b5",
   "metadata": {},
   "outputs": [
    {
     "data": {
      "text/plain": [
       "269905248"
      ]
     },
     "execution_count": 22,
     "metadata": {},
     "output_type": "execute_result"
    }
   ],
   "source": [
    "ny_data['Trip Duration'].sum()\n",
    "#total travel time = 269905248 sec = 4498420.8 min = 74973.68 h"
   ]
  },
  {
   "cell_type": "markdown",
   "id": "9c4302cf",
   "metadata": {},
   "source": [
    "**average travel time??**"
   ]
  },
  {
   "cell_type": "code",
   "execution_count": 23,
   "id": "8cfb4621",
   "metadata": {},
   "outputs": [
    {
     "data": {
      "text/plain": [
       "899.68416"
      ]
     },
     "execution_count": 23,
     "metadata": {},
     "output_type": "execute_result"
    }
   ],
   "source": [
    "ny_data['Trip Duration'].mean()\n",
    "#average travel time = 899.68416 sec = 14.99 min = 0.25 h"
   ]
  },
  {
   "cell_type": "markdown",
   "id": "9ea80f4d",
   "metadata": {},
   "source": [
    "**counting of each user type**"
   ]
  },
  {
   "cell_type": "code",
   "execution_count": 24,
   "id": "e9005bf2",
   "metadata": {},
   "outputs": [
    {
     "data": {
      "text/plain": [
       "Subscriber    269149\n",
       "Customer       30159\n",
       "Name: User Type, dtype: int64"
      ]
     },
     "execution_count": 24,
     "metadata": {},
     "output_type": "execute_result"
    }
   ],
   "source": [
    "ny_data['User Type'].value_counts()\n",
    "#Subscriber    269149\n",
    "#Customer       30159"
   ]
  },
  {
   "cell_type": "markdown",
   "id": "d24b5274",
   "metadata": {},
   "source": [
    "**counting of each gender**"
   ]
  },
  {
   "cell_type": "code",
   "execution_count": 30,
   "id": "2f9ab091",
   "metadata": {},
   "outputs": [
    {
     "data": {
      "text/plain": [
       "Male      204008\n",
       "Female     66783\n",
       "Name: Gender, dtype: int64"
      ]
     },
     "execution_count": 30,
     "metadata": {},
     "output_type": "execute_result"
    }
   ],
   "source": [
    "ny_data['Gender'].value_counts()\n",
    "#Male      204008\n",
    "#Female     66783"
   ]
  },
  {
   "cell_type": "markdown",
   "id": "8d22cec5",
   "metadata": {},
   "source": [
    "**'earliest' most common year of birth**\n"
   ]
  },
  {
   "cell_type": "code",
   "execution_count": 31,
   "id": "f2e9ed45",
   "metadata": {},
   "outputs": [
    {
     "data": {
      "text/html": [
       "<div>\n",
       "<style scoped>\n",
       "    .dataframe tbody tr th:only-of-type {\n",
       "        vertical-align: middle;\n",
       "    }\n",
       "\n",
       "    .dataframe tbody tr th {\n",
       "        vertical-align: top;\n",
       "    }\n",
       "\n",
       "    .dataframe thead th {\n",
       "        text-align: right;\n",
       "    }\n",
       "</style>\n",
       "<table border=\"1\" class=\"dataframe\">\n",
       "  <thead>\n",
       "    <tr style=\"text-align: right;\">\n",
       "      <th></th>\n",
       "      <th>Unnamed: 0</th>\n",
       "      <th>Start Time</th>\n",
       "      <th>End Time</th>\n",
       "      <th>Trip Duration</th>\n",
       "      <th>Start Station</th>\n",
       "      <th>End Station</th>\n",
       "      <th>User Type</th>\n",
       "      <th>Gender</th>\n",
       "      <th>Birth Year</th>\n",
       "      <th>Start time o'clock</th>\n",
       "      <th>Starting H</th>\n",
       "    </tr>\n",
       "  </thead>\n",
       "  <tbody>\n",
       "    <tr>\n",
       "      <th>121248</th>\n",
       "      <td>3433199</td>\n",
       "      <td>2017-04-28 16:14:05</td>\n",
       "      <td>2017-04-28 16:18:21</td>\n",
       "      <td>256</td>\n",
       "      <td>MacDougal St &amp; Prince St</td>\n",
       "      <td>Mercer St &amp; Bleecker St</td>\n",
       "      <td>Subscriber</td>\n",
       "      <td>NaN</td>\n",
       "      <td>1885.0</td>\n",
       "      <td>1900-01-01 16:14:05</td>\n",
       "      <td>16</td>\n",
       "    </tr>\n",
       "  </tbody>\n",
       "</table>\n",
       "</div>"
      ],
      "text/plain": [
       "        Unnamed: 0          Start Time            End Time  Trip Duration  \\\n",
       "121248     3433199 2017-04-28 16:14:05 2017-04-28 16:18:21            256   \n",
       "\n",
       "                   Start Station              End Station   User Type Gender  \\\n",
       "121248  MacDougal St & Prince St  Mercer St & Bleecker St  Subscriber    NaN   \n",
       "\n",
       "        Birth Year  Start time o'clock Starting H  \n",
       "121248      1885.0 1900-01-01 16:14:05         16  "
      ]
     },
     "execution_count": 31,
     "metadata": {},
     "output_type": "execute_result"
    }
   ],
   "source": [
    "ny_data.sort_values(by='Birth Year').head(1)"
   ]
  },
  {
   "cell_type": "code",
   "execution_count": 32,
   "id": "9b3a0602",
   "metadata": {},
   "outputs": [
    {
     "data": {
      "text/plain": [
       "1989.0    11126\n",
       "Name: Birth Year, dtype: int64"
      ]
     },
     "execution_count": 32,
     "metadata": {},
     "output_type": "execute_result"
    }
   ],
   "source": [
    "ny_data['Birth Year'].value_counts().head(1)\n",
    "#the most common year of birth is 1989"
   ]
  },
  {
   "cell_type": "code",
   "execution_count": 33,
   "id": "a685fcca",
   "metadata": {},
   "outputs": [
    {
     "data": {
      "text/plain": [
       "1885.0"
      ]
     },
     "execution_count": 33,
     "metadata": {},
     "output_type": "execute_result"
    }
   ],
   "source": [
    "ny_data['Birth Year'].min()\n",
    "#earliest year of birth is = 1885"
   ]
  },
  {
   "cell_type": "code",
   "execution_count": 34,
   "id": "750cc4e9",
   "metadata": {},
   "outputs": [
    {
     "data": {
      "text/plain": [
       "2001.0"
      ]
     },
     "execution_count": 34,
     "metadata": {},
     "output_type": "execute_result"
    }
   ],
   "source": [
    "ny_data['Birth Year'].max()\n",
    "#most recent year of birth is =2001"
   ]
  },
  {
   "cell_type": "markdown",
   "id": "0e44dee4",
   "metadata": {},
   "source": [
    "# ..................................."
   ]
  },
  {
   "cell_type": "markdown",
   "id": "1e134496",
   "metadata": {},
   "source": [
    "# Third we are going to answer the question due to new_york_city"
   ]
  },
  {
   "cell_type": "code",
   "execution_count": 1,
   "id": "f67a5a52",
   "metadata": {},
   "outputs": [],
   "source": [
    "import pandas as pd\n",
    "import numpy as np\n",
    "from datetime import datetime, timedelta\n",
    "import time"
   ]
  },
  {
   "cell_type": "markdown",
   "id": "1f12b1b7",
   "metadata": {},
   "source": [
    "**loading of Chicago data** \n"
   ]
  },
  {
   "cell_type": "code",
   "execution_count": 3,
   "id": "6d38293f",
   "metadata": {},
   "outputs": [],
   "source": [
    "wash_data = pd.read_csv('washington.csv')\n"
   ]
  },
  {
   "cell_type": "markdown",
   "id": "ff144f89",
   "metadata": {},
   "source": [
    "**exploration of componants of data**\n"
   ]
  },
  {
   "cell_type": "code",
   "execution_count": 4,
   "id": "014a864c",
   "metadata": {},
   "outputs": [
    {
     "data": {
      "text/plain": [
       "Index(['Unnamed: 0', 'Start Time', 'End Time', 'Trip Duration',\n",
       "       'Start Station', 'End Station', 'User Type'],\n",
       "      dtype='object')"
      ]
     },
     "execution_count": 4,
     "metadata": {},
     "output_type": "execute_result"
    }
   ],
   "source": [
    "wash_data.columns"
   ]
  },
  {
   "cell_type": "code",
   "execution_count": 5,
   "id": "5dae0706",
   "metadata": {},
   "outputs": [
    {
     "name": "stdout",
     "output_type": "stream",
     "text": [
      "<class 'pandas.core.frame.DataFrame'>\n",
      "RangeIndex: 300000 entries, 0 to 299999\n",
      "Data columns (total 7 columns):\n",
      " #   Column         Non-Null Count   Dtype  \n",
      "---  ------         --------------   -----  \n",
      " 0   Unnamed: 0     300000 non-null  int64  \n",
      " 1   Start Time     300000 non-null  object \n",
      " 2   End Time       300000 non-null  object \n",
      " 3   Trip Duration  300000 non-null  float64\n",
      " 4   Start Station  300000 non-null  object \n",
      " 5   End Station    300000 non-null  object \n",
      " 6   User Type      300000 non-null  object \n",
      "dtypes: float64(1), int64(1), object(5)\n",
      "memory usage: 16.0+ MB\n"
     ]
    }
   ],
   "source": [
    "wash_data.info()"
   ]
  },
  {
   "cell_type": "code",
   "execution_count": 6,
   "id": "0306f553",
   "metadata": {},
   "outputs": [
    {
     "data": {
      "text/html": [
       "<div>\n",
       "<style scoped>\n",
       "    .dataframe tbody tr th:only-of-type {\n",
       "        vertical-align: middle;\n",
       "    }\n",
       "\n",
       "    .dataframe tbody tr th {\n",
       "        vertical-align: top;\n",
       "    }\n",
       "\n",
       "    .dataframe thead th {\n",
       "        text-align: right;\n",
       "    }\n",
       "</style>\n",
       "<table border=\"1\" class=\"dataframe\">\n",
       "  <thead>\n",
       "    <tr style=\"text-align: right;\">\n",
       "      <th></th>\n",
       "      <th>Unnamed: 0</th>\n",
       "      <th>Start Time</th>\n",
       "      <th>End Time</th>\n",
       "      <th>Trip Duration</th>\n",
       "      <th>Start Station</th>\n",
       "      <th>End Station</th>\n",
       "      <th>User Type</th>\n",
       "    </tr>\n",
       "  </thead>\n",
       "  <tbody>\n",
       "    <tr>\n",
       "      <th>0</th>\n",
       "      <td>1621326</td>\n",
       "      <td>2017-06-21 08:36:34</td>\n",
       "      <td>2017-06-21 08:44:43</td>\n",
       "      <td>489.066</td>\n",
       "      <td>14th &amp; Belmont St NW</td>\n",
       "      <td>15th &amp; K St NW</td>\n",
       "      <td>Subscriber</td>\n",
       "    </tr>\n",
       "  </tbody>\n",
       "</table>\n",
       "</div>"
      ],
      "text/plain": [
       "   Unnamed: 0           Start Time             End Time  Trip Duration  \\\n",
       "0     1621326  2017-06-21 08:36:34  2017-06-21 08:44:43        489.066   \n",
       "\n",
       "          Start Station     End Station   User Type  \n",
       "0  14th & Belmont St NW  15th & K St NW  Subscriber  "
      ]
     },
     "execution_count": 6,
     "metadata": {},
     "output_type": "execute_result"
    }
   ],
   "source": [
    "wash_data.head(1)"
   ]
  },
  {
   "cell_type": "markdown",
   "id": "25c2f502",
   "metadata": {},
   "source": [
    "**converting [Start Time,End Time] from object to datetime**\n"
   ]
  },
  {
   "cell_type": "code",
   "execution_count": 7,
   "id": "d3be94c2",
   "metadata": {},
   "outputs": [],
   "source": [
    "wash_data['Start Time'] = pd.to_datetime(wash_data['Start Time'], format='%Y-%m-%d %H:%M:%S')\n"
   ]
  },
  {
   "cell_type": "markdown",
   "id": "bfb46a91",
   "metadata": {},
   "source": [
    "**Checking data info**\n"
   ]
  },
  {
   "cell_type": "code",
   "execution_count": 9,
   "id": "7cef4e50",
   "metadata": {},
   "outputs": [
    {
     "name": "stdout",
     "output_type": "stream",
     "text": [
      "<class 'pandas.core.frame.DataFrame'>\n",
      "RangeIndex: 300000 entries, 0 to 299999\n",
      "Data columns (total 7 columns):\n",
      " #   Column         Non-Null Count   Dtype         \n",
      "---  ------         --------------   -----         \n",
      " 0   Unnamed: 0     300000 non-null  int64         \n",
      " 1   Start Time     300000 non-null  datetime64[ns]\n",
      " 2   End Time       300000 non-null  object        \n",
      " 3   Trip Duration  300000 non-null  float64       \n",
      " 4   Start Station  300000 non-null  object        \n",
      " 5   End Station    300000 non-null  object        \n",
      " 6   User Type      300000 non-null  object        \n",
      "dtypes: datetime64[ns](1), float64(1), int64(1), object(4)\n",
      "memory usage: 16.0+ MB\n"
     ]
    }
   ],
   "source": [
    "wash_data.info()"
   ]
  },
  {
   "cell_type": "markdown",
   "id": "37719e91",
   "metadata": {},
   "source": [
    "**spliting datetime**\n"
   ]
  },
  {
   "cell_type": "code",
   "execution_count": 10,
   "id": "1ac1cfb2",
   "metadata": {},
   "outputs": [],
   "source": [
    "wash_data[\"Start time o'clock\"] = wash_data['Start Time'].dt.time\n"
   ]
  },
  {
   "cell_type": "code",
   "execution_count": 11,
   "id": "edc07b34",
   "metadata": {},
   "outputs": [
    {
     "data": {
      "text/html": [
       "<div>\n",
       "<style scoped>\n",
       "    .dataframe tbody tr th:only-of-type {\n",
       "        vertical-align: middle;\n",
       "    }\n",
       "\n",
       "    .dataframe tbody tr th {\n",
       "        vertical-align: top;\n",
       "    }\n",
       "\n",
       "    .dataframe thead th {\n",
       "        text-align: right;\n",
       "    }\n",
       "</style>\n",
       "<table border=\"1\" class=\"dataframe\">\n",
       "  <thead>\n",
       "    <tr style=\"text-align: right;\">\n",
       "      <th></th>\n",
       "      <th>Unnamed: 0</th>\n",
       "      <th>Start Time</th>\n",
       "      <th>End Time</th>\n",
       "      <th>Trip Duration</th>\n",
       "      <th>Start Station</th>\n",
       "      <th>End Station</th>\n",
       "      <th>User Type</th>\n",
       "      <th>Start time o'clock</th>\n",
       "    </tr>\n",
       "  </thead>\n",
       "  <tbody>\n",
       "    <tr>\n",
       "      <th>0</th>\n",
       "      <td>1621326</td>\n",
       "      <td>2017-06-21 08:36:34</td>\n",
       "      <td>2017-06-21 08:44:43</td>\n",
       "      <td>489.066</td>\n",
       "      <td>14th &amp; Belmont St NW</td>\n",
       "      <td>15th &amp; K St NW</td>\n",
       "      <td>Subscriber</td>\n",
       "      <td>08:36:34</td>\n",
       "    </tr>\n",
       "  </tbody>\n",
       "</table>\n",
       "</div>"
      ],
      "text/plain": [
       "   Unnamed: 0          Start Time             End Time  Trip Duration  \\\n",
       "0     1621326 2017-06-21 08:36:34  2017-06-21 08:44:43        489.066   \n",
       "\n",
       "          Start Station     End Station   User Type Start time o'clock  \n",
       "0  14th & Belmont St NW  15th & K St NW  Subscriber           08:36:34  "
      ]
     },
     "execution_count": 11,
     "metadata": {},
     "output_type": "execute_result"
    }
   ],
   "source": [
    "wash_data.head(1)"
   ]
  },
  {
   "cell_type": "markdown",
   "id": "9765375a",
   "metadata": {},
   "source": [
    "**convering[Start time o'clock,End time o'clock] to datetime**"
   ]
  },
  {
   "cell_type": "code",
   "execution_count": 12,
   "id": "6ea69fec",
   "metadata": {},
   "outputs": [],
   "source": [
    "wash_data[\"Start time o'clock\"] = pd.to_datetime(wash_data[\"Start time o'clock\"], format='%H:%M:%S')\n"
   ]
  },
  {
   "cell_type": "code",
   "execution_count": 14,
   "id": "d0045769",
   "metadata": {},
   "outputs": [
    {
     "data": {
      "text/html": [
       "<div>\n",
       "<style scoped>\n",
       "    .dataframe tbody tr th:only-of-type {\n",
       "        vertical-align: middle;\n",
       "    }\n",
       "\n",
       "    .dataframe tbody tr th {\n",
       "        vertical-align: top;\n",
       "    }\n",
       "\n",
       "    .dataframe thead th {\n",
       "        text-align: right;\n",
       "    }\n",
       "</style>\n",
       "<table border=\"1\" class=\"dataframe\">\n",
       "  <thead>\n",
       "    <tr style=\"text-align: right;\">\n",
       "      <th></th>\n",
       "      <th>Unnamed: 0</th>\n",
       "      <th>Start Time</th>\n",
       "      <th>End Time</th>\n",
       "      <th>Trip Duration</th>\n",
       "      <th>Start Station</th>\n",
       "      <th>End Station</th>\n",
       "      <th>User Type</th>\n",
       "      <th>Start time o'clock</th>\n",
       "    </tr>\n",
       "  </thead>\n",
       "  <tbody>\n",
       "    <tr>\n",
       "      <th>0</th>\n",
       "      <td>1621326</td>\n",
       "      <td>2017-06-21 08:36:34</td>\n",
       "      <td>2017-06-21 08:44:43</td>\n",
       "      <td>489.066</td>\n",
       "      <td>14th &amp; Belmont St NW</td>\n",
       "      <td>15th &amp; K St NW</td>\n",
       "      <td>Subscriber</td>\n",
       "      <td>1900-01-01 08:36:34</td>\n",
       "    </tr>\n",
       "  </tbody>\n",
       "</table>\n",
       "</div>"
      ],
      "text/plain": [
       "   Unnamed: 0          Start Time             End Time  Trip Duration  \\\n",
       "0     1621326 2017-06-21 08:36:34  2017-06-21 08:44:43        489.066   \n",
       "\n",
       "          Start Station     End Station   User Type  Start time o'clock  \n",
       "0  14th & Belmont St NW  15th & K St NW  Subscriber 1900-01-01 08:36:34  "
      ]
     },
     "execution_count": 14,
     "metadata": {},
     "output_type": "execute_result"
    }
   ],
   "source": [
    "wash_data.head(1)"
   ]
  },
  {
   "cell_type": "markdown",
   "id": "06ca7c34",
   "metadata": {},
   "source": [
    "**splitting datetime to 'Hour' column**"
   ]
  },
  {
   "cell_type": "code",
   "execution_count": 15,
   "id": "24b68e57",
   "metadata": {},
   "outputs": [],
   "source": [
    "wash_data['Starting H'] = wash_data[\"Start time o'clock\"].dt.strftime('%H')\n"
   ]
  },
  {
   "cell_type": "code",
   "execution_count": 16,
   "id": "b23646c7",
   "metadata": {},
   "outputs": [
    {
     "data": {
      "text/html": [
       "<div>\n",
       "<style scoped>\n",
       "    .dataframe tbody tr th:only-of-type {\n",
       "        vertical-align: middle;\n",
       "    }\n",
       "\n",
       "    .dataframe tbody tr th {\n",
       "        vertical-align: top;\n",
       "    }\n",
       "\n",
       "    .dataframe thead th {\n",
       "        text-align: right;\n",
       "    }\n",
       "</style>\n",
       "<table border=\"1\" class=\"dataframe\">\n",
       "  <thead>\n",
       "    <tr style=\"text-align: right;\">\n",
       "      <th></th>\n",
       "      <th>Unnamed: 0</th>\n",
       "      <th>Start Time</th>\n",
       "      <th>End Time</th>\n",
       "      <th>Trip Duration</th>\n",
       "      <th>Start Station</th>\n",
       "      <th>End Station</th>\n",
       "      <th>User Type</th>\n",
       "      <th>Start time o'clock</th>\n",
       "      <th>Starting H</th>\n",
       "    </tr>\n",
       "  </thead>\n",
       "  <tbody>\n",
       "    <tr>\n",
       "      <th>0</th>\n",
       "      <td>1621326</td>\n",
       "      <td>2017-06-21 08:36:34</td>\n",
       "      <td>2017-06-21 08:44:43</td>\n",
       "      <td>489.066</td>\n",
       "      <td>14th &amp; Belmont St NW</td>\n",
       "      <td>15th &amp; K St NW</td>\n",
       "      <td>Subscriber</td>\n",
       "      <td>1900-01-01 08:36:34</td>\n",
       "      <td>08</td>\n",
       "    </tr>\n",
       "  </tbody>\n",
       "</table>\n",
       "</div>"
      ],
      "text/plain": [
       "   Unnamed: 0          Start Time             End Time  Trip Duration  \\\n",
       "0     1621326 2017-06-21 08:36:34  2017-06-21 08:44:43        489.066   \n",
       "\n",
       "          Start Station     End Station   User Type  Start time o'clock  \\\n",
       "0  14th & Belmont St NW  15th & K St NW  Subscriber 1900-01-01 08:36:34   \n",
       "\n",
       "  Starting H  \n",
       "0         08  "
      ]
     },
     "execution_count": 16,
     "metadata": {},
     "output_type": "execute_result"
    }
   ],
   "source": [
    "wash_data.head(1)"
   ]
  },
  {
   "cell_type": "markdown",
   "id": "7458a3e2",
   "metadata": {},
   "source": [
    "**Finding the most common Hour**"
   ]
  },
  {
   "cell_type": "code",
   "execution_count": 18,
   "id": "b3e042e7",
   "metadata": {},
   "outputs": [
    {
     "data": {
      "text/plain": [
       "08    33019\n",
       "Name: Starting H, dtype: int64"
      ]
     },
     "execution_count": 18,
     "metadata": {},
     "output_type": "execute_result"
    }
   ],
   "source": [
    "wash_data['Starting H'].value_counts().head(1)\n",
    "#The most common Hour equel 08 "
   ]
  },
  {
   "cell_type": "markdown",
   "id": "7a0969de",
   "metadata": {},
   "source": [
    "**Splitting date to 'Month'**\n",
    "**and finding the most common month**"
   ]
  },
  {
   "cell_type": "code",
   "execution_count": 19,
   "id": "c54390af",
   "metadata": {},
   "outputs": [
    {
     "data": {
      "text/plain": [
       "6    68339\n",
       "Name: Start Time, dtype: int64"
      ]
     },
     "execution_count": 19,
     "metadata": {},
     "output_type": "execute_result"
    }
   ],
   "source": [
    "wash_data['Start Time'].dt.month.value_counts().head(1)\n",
    "#the most common  month in Start time is 6 'June'"
   ]
  },
  {
   "cell_type": "markdown",
   "id": "52c257a0",
   "metadata": {},
   "source": [
    "**Splitting date to 'Day'**\n",
    "**and finding the most common Day**"
   ]
  },
  {
   "cell_type": "code",
   "execution_count": 22,
   "id": "556661e6",
   "metadata": {},
   "outputs": [
    {
     "data": {
      "text/plain": [
       "21    11432\n",
       "Name: Start Time, dtype: int64"
      ]
     },
     "execution_count": 22,
     "metadata": {},
     "output_type": "execute_result"
    }
   ],
   "source": [
    "wash_data['Start Time'].dt.day.value_counts().head(1)\n",
    "#the most common  day in Start time is 21"
   ]
  },
  {
   "cell_type": "markdown",
   "id": "cfa7e15f",
   "metadata": {},
   "source": [
    "**most common start station??**"
   ]
  },
  {
   "cell_type": "code",
   "execution_count": 24,
   "id": "e350cba3",
   "metadata": {},
   "outputs": [
    {
     "data": {
      "text/plain": [
       "Columbus Circle / Union Station    5656\n",
       "Name: Start Station, dtype: int64"
      ]
     },
     "execution_count": 24,
     "metadata": {},
     "output_type": "execute_result"
    }
   ],
   "source": [
    "wash_data['Start Station'].value_counts().head(1)\n",
    "#'Columbus Circle / Union Station' is the most common start station"
   ]
  },
  {
   "cell_type": "markdown",
   "id": "a7671c86",
   "metadata": {},
   "source": [
    "**most common end station??**"
   ]
  },
  {
   "cell_type": "code",
   "execution_count": 26,
   "id": "9fc2d606",
   "metadata": {},
   "outputs": [
    {
     "data": {
      "text/plain": [
       "Columbus Circle / Union Station    6048\n",
       "Name: End Station, dtype: int64"
      ]
     },
     "execution_count": 26,
     "metadata": {},
     "output_type": "execute_result"
    }
   ],
   "source": [
    "wash_data['End Station'].value_counts().head(1)\n",
    "#'Columbus Circle / Union Station' is the most common End station"
   ]
  },
  {
   "cell_type": "markdown",
   "id": "67163011",
   "metadata": {},
   "source": [
    "**most common trip from start to end??**"
   ]
  },
  {
   "cell_type": "code",
   "execution_count": 28,
   "id": "b0f1223a",
   "metadata": {},
   "outputs": [
    {
     "data": {
      "text/plain": [
       "Columbus Circle / Union Station    5656\n",
       "Name: Start Station, dtype: int64"
      ]
     },
     "execution_count": 28,
     "metadata": {},
     "output_type": "execute_result"
    }
   ],
   "source": [
    "wash_data['Start Station'].value_counts().head(1)\n"
   ]
  },
  {
   "cell_type": "code",
   "execution_count": 30,
   "id": "bc9d804c",
   "metadata": {},
   "outputs": [
    {
     "data": {
      "text/plain": [
       "Columbus Circle / Union Station    6048\n",
       "Name: End Station, dtype: int64"
      ]
     },
     "execution_count": 30,
     "metadata": {},
     "output_type": "execute_result"
    }
   ],
   "source": [
    "wash_data['End Station'].value_counts().head(1)\n",
    "#'Columbus Circle / Union Station' is the most common trip from start to end"
   ]
  },
  {
   "cell_type": "markdown",
   "id": "7e6c42cd",
   "metadata": {},
   "source": [
    "**total travel time??**"
   ]
  },
  {
   "cell_type": "code",
   "execution_count": 31,
   "id": "2112df11",
   "metadata": {},
   "outputs": [
    {
     "data": {
      "text/plain": [
       "371183985.484"
      ]
     },
     "execution_count": 31,
     "metadata": {},
     "output_type": "execute_result"
    }
   ],
   "source": [
    "wash_data['Trip Duration'].sum()\n",
    "#total travel time = 371183985.484 sec = 6186399.7 min = 103106.66 h"
   ]
  },
  {
   "cell_type": "markdown",
   "id": "2e90fe55",
   "metadata": {},
   "source": [
    "**average travel time??**"
   ]
  },
  {
   "cell_type": "code",
   "execution_count": 33,
   "id": "c7d622e2",
   "metadata": {},
   "outputs": [
    {
     "data": {
      "text/plain": [
       "1237.2799516133446"
      ]
     },
     "execution_count": 33,
     "metadata": {},
     "output_type": "execute_result"
    }
   ],
   "source": [
    "wash_data['Trip Duration'].mean()\n",
    "#average travel time = 1237.2799516133446 sec = 20.87 min = 0.34 h"
   ]
  },
  {
   "cell_type": "markdown",
   "id": "8e303775",
   "metadata": {},
   "source": [
    "**counting of each user type**"
   ]
  },
  {
   "cell_type": "code",
   "execution_count": 35,
   "id": "1b089c02",
   "metadata": {},
   "outputs": [
    {
     "data": {
      "text/plain": [
       "Subscriber    220786\n",
       "Customer       79214\n",
       "Name: User Type, dtype: int64"
      ]
     },
     "execution_count": 35,
     "metadata": {},
     "output_type": "execute_result"
    }
   ],
   "source": [
    "wash_data['User Type'].value_counts()\n",
    "#Subscriber    220786\n",
    "#Customer       79214"
   ]
  },
  {
   "cell_type": "markdown",
   "id": "b9b4e87d",
   "metadata": {},
   "source": [
    "# End of project !"
   ]
  },
  {
   "cell_type": "code",
   "execution_count": null,
   "id": "e40cc685",
   "metadata": {},
   "outputs": [],
   "source": []
  },
  {
   "cell_type": "code",
   "execution_count": null,
   "id": "09fae4cb",
   "metadata": {},
   "outputs": [],
   "source": []
  }
 ],
 "metadata": {
  "kernelspec": {
   "display_name": "Python 3",
   "language": "python",
   "name": "python3"
  },
  "language_info": {
   "codemirror_mode": {
    "name": "ipython",
    "version": 3
   },
   "file_extension": ".py",
   "mimetype": "text/x-python",
   "name": "python",
   "nbconvert_exporter": "python",
   "pygments_lexer": "ipython3",
   "version": "3.8.8"
  }
 },
 "nbformat": 4,
 "nbformat_minor": 5
}
